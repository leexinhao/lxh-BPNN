{
 "cells": [
  {
   "cell_type": "code",
   "execution_count": 3,
   "metadata": {},
   "outputs": [],
   "source": [
    "from my_sequential import MyDenseLayer, MySequential\n",
    "from tensorflow.keras.datasets import mnist, fashion_mnist\n",
    "import numpy as np\n",
    "from help_func import one_hot"
   ]
  },
  {
   "cell_type": "markdown",
   "metadata": {},
   "source": [
    "# Mnist数据集测试"
   ]
  },
  {
   "cell_type": "code",
   "execution_count": 4,
   "metadata": {},
   "outputs": [
    {
     "name": "stdout",
     "output_type": "stream",
     "text": [
      "(60000, 784) (60000, 10)\n",
      "(10000, 784) (10000, 10)\n",
      "Epoch 1/10\n",
      "1500/1500 [========================================]  loss: 0.021761060063475373 valid accuracy:0.9166666666666666\n",
      "\n",
      "Epoch 2/10\n",
      "1500/1500 [========================================]  loss: 0.011305827056304391 valid accuracy:0.9320833333333334\n",
      "\n",
      "Epoch 3/10\n",
      "1500/1500 [========================================]  loss: 0.009150930882309635 valid accuracy:0.9394166666666667\n",
      "\n",
      "Epoch 4/10\n",
      "1500/1500 [========================================]  loss: 0.007813214083510064 valid accuracy:0.94725\n",
      "\n",
      "Epoch 5/10\n",
      "1500/1500 [========================================]  loss: 0.006864178776069729 valid accuracy:0.95125\n",
      "\n",
      "Epoch 6/10\n",
      "1500/1500 [========================================]  loss: 0.006146259728414321 valid accuracy:0.9533333333333334\n",
      "\n",
      "Epoch 7/10\n",
      "1500/1500 [========================================]  loss: 0.005571454453823042 valid accuracy:0.95625\n",
      "\n",
      "Epoch 8/10\n",
      "1500/1500 [========================================]  loss: 0.005091155612549247 valid accuracy:0.9575833333333333\n",
      "\n",
      "Epoch 9/10\n",
      "1500/1500 [========================================]  loss: 0.004674692681607633 valid accuracy:0.9599166666666666\n",
      "\n",
      "Epoch 10/10\n",
      "1500/1500 [========================================]  loss: 0.004315609977671248 valid accuracy:0.9604166666666667\n",
      "\n"
     ]
    },
    {
     "data": {
      "image/png": "[encoded data removed]",
      "text/plain": [
       "<Figure size 432x288 with 1 Axes>"
      ]
     },
     "metadata": {
      "needs_background": "light"
     },
     "output_type": "display_data"
    },
    {
     "name": "stdout",
     "output_type": "stream",
     "text": [
      "test accuracy:0.9637\n"
     ]
    }
   ],
   "source": [
    "# 加载训练集\n",
    "(X_train, y_train), (X_test, y_test) = mnist.load_data()\n",
    "# 数据预处理\n",
    "np.random.seed(233)\n",
    "np.random.shuffle(X_train)\n",
    "np.random.seed(233)\n",
    "np.random.shuffle(y_train)\n",
    "\n",
    "X_train, X_test = X_train / 255.0, X_test / 255.0\n",
    "X_train, X_test = X_train.reshape(\n",
    "    len(X_train), -1), X_test.reshape(len(X_test), -1)\n",
    "# 转换成独热码\n",
    "y_train = one_hot(y_train, num_classes=10)\n",
    "y_test = one_hot(y_test, num_classes=10)\n",
    "print(X_train.shape, y_train.shape)\n",
    "print(X_test.shape, y_test.shape)\n",
    "\n",
    "# 创建双隐藏层神经网络\n",
    "model = MySequential(\n",
    "    [MyDenseLayer(in_features=784, out_features=100, activation='relu', bias=True),\n",
    "     MyDenseLayer(in_features=100, out_features=100,\n",
    "                  activation='relu', bias=True),\n",
    "     MyDenseLayer(in_features=100, out_features=10, activation='softmax', bias=True)])\n",
    "\n",
    "# learning rate 学习率有甜点，这个数据集大概在0.1-0.3之间效果好\n",
    "model.fit(X_train, y_train, epoch=10, batch_size=32,\n",
    "          learning_rate=0.1, loss='mse', valid_spilt=0.2, sparse=False)\n",
    "print('test', end=\" \")\n",
    "model.evaluate(X_test, y_test, sparse=False)\n"
   ]
  },
  {
   "cell_type": "markdown",
   "metadata": {},
   "source": [
    "# Fashion Mnist数据集测试"
   ]
  },
  {
   "cell_type": "code",
   "execution_count": 4,
   "metadata": {},
   "outputs": [
    {
     "name": "stdout",
     "output_type": "stream",
     "text": [
      "(60000, 784) (60000, 10)\n",
      "(10000, 784) (10000, 10)\n",
      "Epoch 1/10\n",
      "1500/1500 [========================================]  loss: 0.04798482049212384 valid accuracy:0.7431666666666666\n",
      "\n",
      "Epoch 2/10\n",
      "1500/1500 [========================================]  loss: 0.03279423833483492 valid accuracy:0.7936666666666666\n",
      "\n",
      "Epoch 3/10\n",
      "1500/1500 [========================================]  loss: 0.02895846984665421 valid accuracy:0.8081666666666667\n",
      "\n",
      "Epoch 4/10\n",
      "1500/1500 [========================================]  loss: 0.027156181459928538 valid accuracy:0.8161666666666667\n",
      "\n",
      "Epoch 5/10\n",
      "1500/1500 [========================================]  loss: 0.025961285096368792 valid accuracy:0.8236666666666667\n",
      "\n",
      "Epoch 6/10\n",
      "1500/1500 [========================================]  loss: 0.025054395265222445 valid accuracy:0.8290833333333333\n",
      "\n",
      "Epoch 7/10\n",
      "1500/1500 [========================================]  loss: 0.024349655005442075 valid accuracy:0.8314166666666667\n",
      "\n",
      "Epoch 8/10\n",
      "1500/1500 [========================================]  loss: 0.023778551619590093 valid accuracy:0.8359166666666666\n",
      "\n",
      "Epoch 9/10\n",
      "1500/1500 [========================================]  loss: 0.023297981529338582 valid accuracy:0.83825\n",
      "\n",
      "Epoch 10/10\n",
      "1500/1500 [========================================]  loss: 0.022880768101765193 valid accuracy:0.8401666666666666\n",
      "\n"
     ]
    },
    {
     "data": {
      "image/png": "[encoded data removed]",
      "text/plain": [
       "<Figure size 432x288 with 1 Axes>"
      ]
     },
     "metadata": {
      "needs_background": "light"
     },
     "output_type": "display_data"
    },
    {
     "name": "stdout",
     "output_type": "stream",
     "text": [
      "test accuracy:0.8298\n"
     ]
    }
   ],
   "source": [
    "import copy\n",
    "# 加载训练集\n",
    "(X_train, y_train), (X_test, y_test) = copy.deepcopy(fashion_mnist.load_data())\n",
    "# 数据预处理\n",
    "np.random.seed(253)\n",
    "np.random.shuffle(X_train)\n",
    "np.random.seed(253)\n",
    "np.random.shuffle(y_train)\n",
    "\n",
    "X_train, X_test = X_train / 255.0, X_test / 255.0\n",
    "X_train, X_test = X_train.reshape(\n",
    "    len(X_train), -1), X_test.reshape(len(X_test), -1)\n",
    "# 转换成独热码\n",
    "y_train = one_hot(y_train, num_classes=10)\n",
    "y_test = one_hot(y_test, num_classes=10)\n",
    "print(X_train.shape, y_train.shape)\n",
    "print(X_test.shape, y_test.shape)\n",
    "\n",
    "# 创建双隐藏层神经网络\n",
    "model = MySequential(\n",
    "    [MyDenseLayer(in_features=784, out_features=100, activation='relu', bias=True),\n",
    "     MyDenseLayer(in_features=100, out_features=100,\n",
    "                  activation='relu', bias=True),\n",
    "     MyDenseLayer(in_features=100, out_features=10, activation='softmax', bias=True)])\n",
    "\n",
    "model.fit(X_train, y_train, epoch=10, batch_size=32,\n",
    "          learning_rate=0.01, loss='mse', valid_spilt=0.2, sparse=False)\n",
    "print('test', end=\" \")\n",
    "model.evaluate(X_test, y_test, sparse=False)\n"
   ]
  }
 ],
 "metadata": {
  "interpreter": {
   "hash": "df774601855febf9718b0ce3a748dbc31b6122b7c2e3149281524af7a887cc58"
  },
  "kernelspec": {
   "display_name": "Python 3.7.0 64-bit ('lxh37': conda)",
   "language": "python",
   "name": "python3"
  },
  "language_info": {
   "codemirror_mode": {
    "name": "ipython",
    "version": 3
   },
   "file_extension": ".py",
   "mimetype": "text/x-python",
   "name": "python",
   "nbconvert_exporter": "python",
   "pygments_lexer": "ipython3",
   "version": "3.7.0"
  },
  "orig_nbformat": 4
 },
 "nbformat": 4,
 "nbformat_minor": 2
}
