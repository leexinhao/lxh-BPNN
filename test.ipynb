{
 "cells": [
  {
   "cell_type": "markdown",
   "metadata": {},
   "source": [
    "# 在mnist数据集上测试效果"
   ]
  },
  {
   "cell_type": "code",
   "execution_count": 4,
   "metadata": {},
   "outputs": [
    {
     "name": "stdout",
     "output_type": "stream",
     "text": [
      "(60000, 784) (60000, 10)\n",
      "(10000, 784) (10000, 10)\n",
      "Epoch 1/10\n",
      "1500/1500 [========================================]  loss: 0.021761060063475373 valid accuracy:0.9166666666666666\n",
      "\n",
      "Epoch 2/10\n",
      "1500/1500 [========================================]  loss: 0.011305827056304391 valid accuracy:0.9320833333333334\n",
      "\n",
      "Epoch 3/10\n",
      "1500/1500 [========================================]  loss: 0.009150930882309635 valid accuracy:0.9394166666666667\n",
      "\n",
      "Epoch 4/10\n",
      "1500/1500 [========================================]  loss: 0.007813214083510064 valid accuracy:0.94725\n",
      "\n",
      "Epoch 5/10\n",
      "1500/1500 [========================================]  loss: 0.006864178776069729 valid accuracy:0.95125\n",
      "\n",
      "Epoch 6/10\n",
      "1500/1500 [========================================]  loss: 0.006146259728414321 valid accuracy:0.9533333333333334\n",
      "\n",
      "Epoch 7/10\n",
      "1500/1500 [========================================]  loss: 0.005571454453823042 valid accuracy:0.95625\n",
      "\n",
      "Epoch 8/10\n",
      "1500/1500 [========================================]  loss: 0.005091155612549247 valid accuracy:0.9575833333333333\n",
      "\n",
      "Epoch 9/10\n",
      "1500/1500 [========================================]  loss: 0.004674692681607633 valid accuracy:0.9599166666666666\n",
      "\n",
      "Epoch 10/10\n",
      "1500/1500 [========================================]  loss: 0.004315609977671248 valid accuracy:0.9604166666666667\n",
      "\n"
     ]
    },
    {
     "data": {
      "image/png": "[encoded data removed]",
      "text/plain": [
       "<Figure size 432x288 with 1 Axes>"
      ]
     },
     "metadata": {
      "needs_background": "light"
     },
     "output_type": "display_data"
    },
    {
     "name": "stdout",
     "output_type": "stream",
     "text": [
      "test accuracy:0.9637\n"
     ]
    }
   ],
   "source": [
    "from my_sequential import MyDenseLayer, MySequential\n",
    "import tensorflow as tf\n",
    "import numpy as np\n",
    "from help_func import one_hot\n",
    "\n",
    "# 加载训练集\n",
    "mnist = tf.keras.datasets.mnist\n",
    "(X_train, y_train), (X_test, y_test) = mnist.load_data()\n",
    "# 数据预处理\n",
    "np.random.seed(233)\n",
    "np.random.shuffle(X_train)\n",
    "np.random.seed(233)\n",
    "np.random.shuffle(y_train)\n",
    "\n",
    "X_train, X_test = X_train / 255.0, X_test / 255.0\n",
    "X_train, X_test = X_train.reshape(\n",
    "    len(X_train), -1), X_test.reshape(len(X_test), -1)\n",
    "# 转换成独热码\n",
    "y_train = one_hot(y_train, num_classes=10)\n",
    "y_test = one_hot(y_test, num_classes=10)\n",
    "print(X_train.shape, y_train.shape)\n",
    "print(X_test.shape, y_test.shape)\n",
    "\n",
    "# 创建双隐藏层神经网络\n",
    "model = MySequential(\n",
    "    [MyDenseLayer(in_features=784, out_features=100, activation='relu', bias=True),\n",
    "     MyDenseLayer(in_features=100, out_features=100,\n",
    "                  activation='relu', bias=True),\n",
    "     MyDenseLayer(in_features=100, out_features=10, activation='softmax', bias=True)])\n",
    "\n",
    "# learning rate 学习率有甜点，这个数据集大概在0.1-0.3之间效果好\n",
    "model.fit(X_train, y_train, epoch=10, batch_size=32,\n",
    "          learning_rate=0.1, loss='mse', valid_spilt=0.2, sparse=False)\n",
    "print('test', end=\" \")\n",
    "model.evaluate(X_test, y_test, sparse=False)\n"
   ]
  },
  {
   "cell_type": "markdown",
   "metadata": {},
   "source": [
    "# Fashion Mnist数据集上测试"
   ]
  },
  {
   "cell_type": "code",
   "execution_count": 2,
   "metadata": {},
   "outputs": [],
   "source": [
    "import copy\n",
    "# 加载训练集\n",
    "f_mnist = tf.keras.datasets.fashion_mnist\n",
    "(X_train, y_train), (X_test, y_test) = copy.deepcopy(f_mnist.load_data())\n",
    "# 数据预处理\n",
    "np.random.seed(233)\n",
    "np.random.shuffle(X_train)\n",
    "np.random.seed(233)\n",
    "np.random.shuffle(y_train)\n",
    "\n",
    "X_train, X_test = X_train / 255.0, X_test / 255.0\n",
    "X_train, X_test = X_train.reshape(\n",
    "    len(X_train), -1), X_test.reshape(len(X_test), -1)\n",
    "# 转换成独热码\n",
    "y_train = one_hot(y_train, num_classes=10)\n",
    "y_test = one_hot(y_test, num_classes=10)\n",
    "print(X_train.shape, y_train.shape)\n",
    "print(X_test.shape, y_test.shape)\n",
    "\n",
    "# 创建双隐藏层神经网络\n",
    "model = MySequential(\n",
    "    [MyDenseLayer(in_features=784, out_features=100, activation='relu', bias=True),\n",
    "     MyDenseLayer(in_features=100, out_features=100,\n",
    "                  activation='relu', bias=True),\n",
    "     MyDenseLayer(in_features=100, out_features=10, activation='softmax', bias=True)])\n",
    "\n",
    "# learning rate 学习率有甜点，这个数据集大概在0.1-0.3之间效果好\n",
    "model.fit(X_train, y_train, epoch=10, batch_size=32,\n",
    "          learning_rate=0.1, loss='mse', valid_spilt=0.2, sparse=False)\n",
    "print('test', end=\" \")\n",
    "model.evaluate(X_test, y_test, sparse=False)\n"
   ]
  },
  {
   "cell_type": "markdown",
   "metadata": {},
   "source": [
    "# 鸢尾花数据集测试"
   ]
  },
  {
   "cell_type": "code",
   "execution_count": null,
   "metadata": {},
   "outputs": [],
   "source": [
    "from sklearn import datasets\n",
    "# 加载数据\n",
    "iris = datasets.load_iris()\n",
    "X = iris.data\n",
    "y = iris.target\n",
    "X_train, X_test, y_train, y_test = train_test_split(\n",
    "    X, y, test_size=0.2, random_state=None)\n"
   ]
  },
  {
   "cell_type": "markdown",
   "metadata": {},
   "source": [
    "# 红酒数据集测试"
   ]
  },
  {
   "cell_type": "code",
   "execution_count": null,
   "metadata": {},
   "outputs": [],
   "source": [
    "from sklearn import datasets\n",
    "# 加载数据\n",
    "wine = datasets.load_wine()\n",
    "X = wine.data\n",
    "y = wine.target\n",
    "X_train, X_test, y_train, y_test = train_test_split(\n",
    "    X, y, test_size=0.2, random_state=None)\n"
   ]
  }
 ],
 "metadata": {
  "interpreter": {
   "hash": "df774601855febf9718b0ce3a748dbc31b6122b7c2e3149281524af7a887cc58"
  },
  "kernelspec": {
   "display_name": "Python 3.7.0 64-bit ('lxh37': conda)",
   "language": "python",
   "name": "python3"
  },
  "language_info": {
   "codemirror_mode": {
    "name": "ipython",
    "version": 3
   },
   "file_extension": ".py",
   "mimetype": "text/x-python",
   "name": "python",
   "nbconvert_exporter": "python",
   "pygments_lexer": "ipython3",
   "version": "3.7.0"
  },
  "orig_nbformat": 4
 },
 "nbformat": 4,
 "nbformat_minor": 2
}
