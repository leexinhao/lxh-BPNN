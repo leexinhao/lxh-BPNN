{
 "cells": [
  {
   "cell_type": "code",
   "execution_count": 4,
   "metadata": {},
   "outputs": [
    {
     "name": "stdout",
     "output_type": "stream",
     "text": [
      "(60000, 784) (60000, 10)\n",
      "(10000, 784) (10000, 10)\n",
      "Epoch 1/10\n",
      "25/25 [========================================]  loss: 0.09076036021920535 valid accuracy:0.325\n",
      "\n",
      "Epoch 2/10\n",
      "25/25 [========================================]  loss: 0.07487570182707193 valid accuracy:0.445\n",
      "\n",
      "Epoch 3/10\n",
      "25/25 [========================================]  loss: 0.06267078107346682 valid accuracy:0.54\n",
      "\n",
      "Epoch 4/10\n",
      "25/25 [========================================]  loss: 0.05015623297852666 valid accuracy:0.63\n",
      "\n",
      "Epoch 5/10\n",
      "25/25 [========================================]  loss: 0.03914365739603901 valid accuracy:0.69\n",
      "\n",
      "Epoch 6/10\n",
      "25/25 [========================================]  loss: 0.032339811117477475 valid accuracy:0.705\n",
      "\n",
      "Epoch 7/10\n",
      "25/25 [========================================]  loss: 0.02756678332925555 valid accuracy:0.74\n",
      "\n",
      "Epoch 8/10\n",
      "25/25 [========================================]  loss: 0.02392891805905831 valid accuracy:0.755\n",
      "\n",
      "Epoch 9/10\n",
      "25/25 [========================================]  loss: 0.02112286183875338 valid accuracy:0.77\n",
      "\n",
      "Epoch 10/10\n",
      "25/25 [========================================]  loss: 0.019026342701672833 valid accuracy:0.77\n",
      "\n"
     ]
    },
    {
     "data": {
      "image/png": "[encoded data removed]",
      "text/plain": [
       "<Figure size 432x288 with 1 Axes>"
      ]
     },
     "metadata": {
      "needs_background": "light"
     },
     "output_type": "display_data"
    },
    {
     "name": "stdout",
     "output_type": "stream",
     "text": [
      "test accuracy:0.8007\n"
     ]
    }
   ],
   "source": [
    "from my_sequential import MyDenseLayer, MySequential\n",
    "import tensorflow as tf\n",
    "import numpy as np\n",
    "from help_func import one_hot\n",
    "\n",
    "# 加载训练集\n",
    "mnist = tf.keras.datasets.mnist\n",
    "(X_train, y_train), (X_test, y_test) = mnist.load_data()\n",
    "np.random.seed(233)\n",
    "np.random.shuffle(X_train)\n",
    "np.random.seed(233)\n",
    "np.random.shuffle(y_train)\n",
    "\n",
    "X_train, X_test = X_train / 255.0, X_test / 255.0\n",
    "X_train, X_test = X_train.reshape(\n",
    "    len(X_train), -1), X_test.reshape(len(X_test), -1)\n",
    "# 转换成独热码\n",
    "y_train = one_hot(y_train, num_classes=10)\n",
    "y_test = one_hot(y_test, num_classes=10)\n",
    "print(X_train.shape, y_train.shape)\n",
    "print(X_test.shape, y_test.shape)\n",
    "\n",
    "# 创建单隐藏层神经网络\n",
    "model = MySequential(\n",
    "    [MyDenseLayer(in_features=784, out_features=100, activation='relu', bias=True),\n",
    "     MyDenseLayer(in_features=100, out_features=100,\n",
    "                  activation='relu', bias=True),\n",
    "     MyDenseLayer(in_features=100, out_features=10, activation='softmax', bias=True)])\n",
    "\n",
    "X_train, y_train = X_train[1000:2000, :], y_train[1000:2000]\n",
    "# learning rate 学习率有甜点，这个数据集这个方法大概在0.1-0.3之间效果好\n",
    "model.fit(X_train, y_train, epoch=10, batch_size=32,\n",
    "          learning_rate=0.1, loss='mse', valid_spilt=0.2)\n",
    "print('test', end=\" \")\n",
    "model.evaluate(X_test, y_test)\n"
   ]
  },
  {
   "cell_type": "code",
   "execution_count": 6,
   "metadata": {},
   "outputs": [
    {
     "name": "stdout",
     "output_type": "stream",
     "text": [
      "(60000, 784) (60000, 10)\n",
      "Epoch 1/10\n",
      "25/25 [==============================] - 0s 7ms/step - loss: 5.9362 - val_loss: 4.5108\n",
      "Epoch 2/10\n",
      "25/25 [==============================] - 0s 3ms/step - loss: nan - val_loss: nan\n",
      "Epoch 3/10\n",
      "25/25 [==============================] - 0s 3ms/step - loss: nan - val_loss: nan\n",
      "Epoch 4/10\n",
      "25/25 [==============================] - 0s 2ms/step - loss: nan - val_loss: nan\n",
      "Epoch 5/10\n",
      "25/25 [==============================] - 0s 3ms/step - loss: nan - val_loss: nan\n",
      "Epoch 6/10\n",
      "25/25 [==============================] - 0s 3ms/step - loss: nan - val_loss: nan\n",
      "Epoch 7/10\n",
      "25/25 [==============================] - 0s 4ms/step - loss: nan - val_loss: nan\n",
      "Epoch 8/10\n",
      "25/25 [==============================] - 0s 4ms/step - loss: nan - val_loss: nan\n",
      "Epoch 9/10\n",
      "25/25 [==============================] - 0s 4ms/step - loss: nan - val_loss: nan\n",
      "Epoch 10/10\n",
      "25/25 [==============================] - 0s 3ms/step - loss: nan - val_loss: nan\n",
      "313/313 [==============================] - 0s 1ms/step - loss: nan\n"
     ]
    },
    {
     "data": {
      "text/plain": [
       "nan"
      ]
     },
     "execution_count": 6,
     "metadata": {},
     "output_type": "execute_result"
    }
   ],
   "source": [
    "import tensorflow as tf\n",
    "mnist = tf.keras.datasets.mnist\n",
    "(X_train, y_train), (X_test, y_test) = mnist.load_data()\n",
    "X_train, X_test = X_train / 255.0, X_test / 255.0\n",
    "X_train, X_test = X_train.reshape(\n",
    "    len(X_train), -1), X_test.reshape(len(X_test), -1)\n",
    "# y_train = one_hot(y_train, num_classes=10)\n",
    "# y_test = one_hot(y_test, num_classes=10)\n",
    "print(X_train.shape, y_train.shape)\n",
    "\n",
    "X_train, y_train = X_train[1000:2000, :], y_train[1000:2000]\n",
    "model = tf.keras.Sequential([\n",
    "    tf.keras.layers.Dense(100, activation='relu'),\n",
    "    tf.keras.layers.Dense(10, activation='relu')\n",
    "])\n",
    "\n",
    "model.compile(optimizer='adam',\n",
    "              loss=tf.keras.losses.SparseCategoricalCrossentropy(\n",
    "                  from_logits=False))\n",
    "model.fit(X_train, y_train, epochs=10, batch_size=32, validation_split=0.2)\n",
    "model.evaluate(X_test, y_test)\n"
   ]
  },
  {
   "cell_type": "code",
   "execution_count": 12,
   "metadata": {},
   "outputs": [
    {
     "name": "stdout",
     "output_type": "stream",
     "text": [
      "asdas\n",
      "10asdsa\n"
     ]
    }
   ],
   "source": [
    "import sys\n",
    "import time\n",
    "\n",
    "print('asdas')\n",
    "for i in range(11):\n",
    "    # 方式1\n",
    "    sys.stdout.write('\\r' + str(i))\n",
    "    sys.stdout.flush()\n",
    "    # # 方式2\n",
    "    # print('\\r' + str(i), end='', flush=True)\n",
    "\n",
    "    time.sleep(0.3)\n",
    "print('asdsa')\n"
   ]
  },
  {
   "cell_type": "code",
   "execution_count": null,
   "metadata": {},
   "outputs": [],
   "source": []
  }
 ],
 "metadata": {
  "interpreter": {
   "hash": "df774601855febf9718b0ce3a748dbc31b6122b7c2e3149281524af7a887cc58"
  },
  "kernelspec": {
   "display_name": "Python 3.7.0 64-bit ('lxh37': conda)",
   "language": "python",
   "name": "python3"
  },
  "language_info": {
   "codemirror_mode": {
    "name": "ipython",
    "version": 3
   },
   "file_extension": ".py",
   "mimetype": "text/x-python",
   "name": "python",
   "nbconvert_exporter": "python",
   "pygments_lexer": "ipython3",
   "version": "3.7.0"
  },
  "orig_nbformat": 4
 },
 "nbformat": 4,
 "nbformat_minor": 2
}
