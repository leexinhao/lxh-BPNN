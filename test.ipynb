{
 "cells": [
  {
   "cell_type": "code",
   "execution_count": 1,
   "metadata": {},
   "outputs": [
    {
     "name": "stdout",
     "output_type": "stream",
     "text": [
      "(60000, 784) (60000, 10)\n",
      "(10000, 784) (10000,)\n",
      "Epoch 1, training loss = 0.3353060640133419\n",
      "Epoch 2, training loss = 0.23021802348502585\n",
      "Epoch 3, training loss = 0.16942328303191956\n",
      "Epoch 4, training loss = 0.13031158920981126\n",
      "Epoch 5, training loss = 0.09975104036566071\n",
      "Epoch 6, training loss = 0.09350772868493708\n",
      "Epoch 7, training loss = 0.0918326322696079\n",
      "Epoch 8, training loss = 0.09109509087573796\n",
      "Epoch 9, training loss = 0.09069324310056492\n",
      "Epoch 10, training loss = 0.09044710605509099\n"
     ]
    },
    {
     "data": {
      "image/png": "[encoded data removed]",
      "text/plain": [
       "<Figure size 432x288 with 1 Axes>"
      ]
     },
     "metadata": {
      "needs_background": "light"
     },
     "output_type": "display_data"
    },
    {
     "name": "stdout",
     "output_type": "stream",
     "text": [
      "test accuracy:0.1705\n"
     ]
    }
   ],
   "source": [
    "from my_sequential import MyDenseLayer, MySequential\n",
    "import tensorflow as tf\n",
    "import numpy as np\n",
    "from help_func import one_hot\n",
    "\n",
    "# 加载训练集\n",
    "mnist = tf.keras.datasets.mnist\n",
    "(X_train, y_train), (X_test, y_test) = mnist.load_data()\n",
    "np.random.seed(233)\n",
    "np.random.shuffle(X_train)\n",
    "np.random.seed(233)\n",
    "np.random.shuffle(y_train)\n",
    "\n",
    "X_train, X_test = X_train / 255.0, X_test / 255.0\n",
    "X_train, X_test = X_train.reshape(\n",
    "    len(X_train), -1), X_test.reshape(len(X_test), -1)\n",
    "y_train = one_hot(y_train)\n",
    "print(X_train.shape, y_train.shape)\n",
    "print(X_test.shape, y_test.shape)\n",
    "\n",
    "# 创建单隐藏层神经网络\n",
    "model = MySequential(\n",
    "    [MyDenseLayer(in_features=784, out_features=100, activation='sigmoid', bias=True),\n",
    "     MyDenseLayer(in_features=100, out_features=100,\n",
    "                  activation='sigmoid', bias=False),\n",
    "     MyDenseLayer(in_features=100, out_features=10, activation='sigmoid', bias=True)])\n",
    "\n",
    "X_train, y_train = X_train[0:100, :], y_train[0:100]\n",
    "# learning rate 学习率有甜点，这个数据集这个方法大概在0.1-0.3之间效果好\n",
    "model.fit(X_train, y_train, epoch=10, batch_size=32,\n",
    "          learning_rate=0.1, loss='mse')\n",
    "print('test', end=\" \")\n",
    "model.evaluate(X_test, y_test)"
   ]
  },
  {
   "cell_type": "code",
   "execution_count": null,
   "metadata": {},
   "outputs": [],
   "source": []
  }
 ],
 "metadata": {
  "interpreter": {
   "hash": "df774601855febf9718b0ce3a748dbc31b6122b7c2e3149281524af7a887cc58"
  },
  "kernelspec": {
   "display_name": "Python 3.7.0 64-bit ('lxh37': conda)",
   "language": "python",
   "name": "python3"
  },
  "language_info": {
   "codemirror_mode": {
    "name": "ipython",
    "version": 3
   },
   "file_extension": ".py",
   "mimetype": "text/x-python",
   "name": "python",
   "nbconvert_exporter": "python",
   "pygments_lexer": "ipython3",
   "version": "3.7.0"
  },
  "orig_nbformat": 4
 },
 "nbformat": 4,
 "nbformat_minor": 2
}
