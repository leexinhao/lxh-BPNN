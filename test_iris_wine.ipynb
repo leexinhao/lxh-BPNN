{
 "cells": [
  {
   "cell_type": "code",
   "execution_count": 2,
   "metadata": {},
   "outputs": [],
   "source": [
    "from sklearn import datasets\n",
    "from sklearn.preprocessing import StandardScaler\n",
    "from sklearn.model_selection import train_test_split\n",
    "from my_sequential import MyDenseLayer, MySequential\n",
    "import numpy as np\n",
    "from help_func import one_hot"
   ]
  },
  {
   "cell_type": "markdown",
   "metadata": {},
   "source": [
    "# 鸢尾花数据集测试"
   ]
  },
  {
   "cell_type": "code",
   "execution_count": 32,
   "metadata": {},
   "outputs": [
    {
     "name": "stdout",
     "output_type": "stream",
     "text": [
      "(120, 4) (120, 3)\n",
      "(30, 4) (30, 3)\n",
      "Epoch 1/15\n",
      "120/120 [========================================]  loss: 0.12136144384640579 \n",
      "Epoch 2/15\n",
      "120/120 [========================================]  loss: 0.0768001824302078 \n",
      "Epoch 3/15\n",
      "120/120 [========================================]  loss: 0.05722617698260728 \n",
      "Epoch 4/15\n",
      "120/120 [========================================]  loss: 0.04306176982469173 \n",
      "Epoch 5/15\n",
      "120/120 [========================================]  loss: 0.03408457460550886 \n",
      "Epoch 6/15\n",
      "120/120 [========================================]  loss: 0.028596643857972247 \n",
      "Epoch 7/15\n",
      "120/120 [========================================]  loss: 0.024872685898896272 \n",
      "Epoch 8/15\n",
      "120/120 [========================================]  loss: 0.022293561074778232 \n",
      "Epoch 9/15\n",
      "120/120 [========================================]  loss: 0.02047423944387576 \n",
      "Epoch 10/15\n",
      "120/120 [========================================]  loss: 0.01905536294727054 \n",
      "Epoch 11/15\n",
      "120/120 [========================================]  loss: 0.017769827003405958 \n",
      "Epoch 12/15\n",
      "120/120 [========================================]  loss: 0.01685071997464022 \n",
      "Epoch 13/15\n",
      "120/120 [========================================]  loss: 0.01594330621420372 \n",
      "Epoch 14/15\n",
      "120/120 [========================================]  loss: 0.01520221451543332 \n",
      "Epoch 15/15\n",
      "120/120 [========================================]  loss: 0.014550294848310361 \n"
     ]
    },
    {
     "data": {
      "image/png": "[encoded data removed]",
      "text/plain": [
       "<Figure size 432x288 with 1 Axes>"
      ]
     },
     "metadata": {
      "needs_background": "light"
     },
     "output_type": "display_data"
    },
    {
     "name": "stdout",
     "output_type": "stream",
     "text": [
      "test accuracy:0.9666666666666667\n"
     ]
    }
   ],
   "source": [
    "# 加载鸢尾花数据\n",
    "iris = datasets.load_iris()\n",
    "X = iris.data\n",
    "y = iris.target\n",
    "X_train, X_test, y_train, y_test = train_test_split(\n",
    "    X, y, test_size=0.2, random_state=None)\n",
    "# z-score标准化\n",
    "ss = StandardScaler()\n",
    "X_train = ss.fit_transform(X_train)\n",
    "X_test = ss.transform(X_test)\n",
    "# 转换成独热码\n",
    "y_train = one_hot(y_train, num_classes=3)\n",
    "y_test = one_hot(y_test, num_classes=3)\n",
    "print(X_train.shape, y_train.shape)\n",
    "print(X_test.shape, y_test.shape)\n",
    "# 创建单隐藏层神经网络\n",
    "model = MySequential(\n",
    "    [MyDenseLayer(in_features=4, out_features=20, activation='relu', bias=True),\n",
    "     MyDenseLayer(in_features=20, out_features=3, activation='softmax', bias=True)])\n",
    "\n",
    "model.fit(X_train, y_train, epoch=15, batch_size=1,\n",
    "          learning_rate=0.1, loss='mse', sparse=False)\n",
    "print('test', end=\" \")\n",
    "model.evaluate(X_test, y_test, sparse=False)\n"
   ]
  },
  {
   "cell_type": "markdown",
   "metadata": {},
   "source": [
    "# 红酒数据集测试"
   ]
  },
  {
   "cell_type": "code",
   "execution_count": 28,
   "metadata": {},
   "outputs": [
    {
     "name": "stdout",
     "output_type": "stream",
     "text": [
      "(142, 13) (142, 3)\n",
      "(36, 13) (36, 3)\n",
      "Epoch 1/15\n",
      "142/142 [========================================]  loss: 0.16696526790602384 \n",
      "Epoch 2/15\n",
      "142/142 [========================================]  loss: 0.04722915922042116 \n",
      "Epoch 3/15\n",
      "142/142 [========================================]  loss: 0.03024086224834802 \n",
      "Epoch 4/15\n",
      "142/142 [========================================]  loss: 0.02349792128696412 \n",
      "Epoch 5/15\n",
      "142/142 [========================================]  loss: 0.019311967492320024 \n",
      "Epoch 6/15\n",
      "142/142 [========================================]  loss: 0.01611595257282774 \n",
      "Epoch 7/15\n",
      "142/142 [========================================]  loss: 0.01375055690534325 \n",
      "Epoch 8/15\n",
      "142/142 [========================================]  loss: 0.0120926645168445 \n",
      "Epoch 9/15\n",
      "142/142 [========================================]  loss: 0.010921501553209118 \n",
      "Epoch 10/15\n",
      "142/142 [========================================]  loss: 0.010092776775810296 \n",
      "Epoch 11/15\n",
      "142/142 [========================================]  loss: 0.00946092841886479 \n",
      "Epoch 12/15\n",
      "142/142 [========================================]  loss: 0.008960225356523136 \n",
      "Epoch 13/15\n",
      "142/142 [========================================]  loss: 0.008553493463957767 \n",
      "Epoch 14/15\n",
      "142/142 [========================================]  loss: 0.008213113690471409 \n",
      "Epoch 15/15\n",
      "142/142 [========================================]  loss: 0.007921673847240726 \n"
     ]
    },
    {
     "data": {
      "image/png": "[encoded data removed]",
      "text/plain": [
       "<Figure size 432x288 with 1 Axes>"
      ]
     },
     "metadata": {
      "needs_background": "light"
     },
     "output_type": "display_data"
    },
    {
     "name": "stdout",
     "output_type": "stream",
     "text": [
      "test accuracy:0.9444444444444444\n"
     ]
    }
   ],
   "source": [
    "# 加载红酒数据\n",
    "wine = datasets.load_wine()\n",
    "X = wine.data\n",
    "y = wine.target\n",
    "X_train, X_test, y_train, y_test = train_test_split(\n",
    "    X, y, test_size=0.2, random_state=None)\n",
    "# z-score标准化\n",
    "ss = StandardScaler()\n",
    "X_train = ss.fit_transform(X_train)\n",
    "X_test = ss.transform(X_test)\n",
    "# 转换成独热码\n",
    "y_train = one_hot(y_train, num_classes=3)\n",
    "y_test = one_hot(y_test, num_classes=3)\n",
    "print(X_train.shape, y_train.shape)\n",
    "print(X_test.shape, y_test.shape)\n",
    "\n",
    "# 创建单隐藏层神经网络\n",
    "model = MySequential(\n",
    "    [MyDenseLayer(in_features=13, out_features=50, activation='relu', bias=True),\n",
    "     MyDenseLayer(in_features=50, out_features=3, activation='softmax', bias=True)])\n",
    "\n",
    "model.fit(X_train, y_train, epoch=15, batch_size=1,\n",
    "          learning_rate=0.01, loss='mse', sparse=False)\n",
    "print('test', end=\" \")\n",
    "model.evaluate(X_test, y_test, sparse=False)\n"
   ]
  }
 ],
 "metadata": {
  "interpreter": {
   "hash": "df774601855febf9718b0ce3a748dbc31b6122b7c2e3149281524af7a887cc58"
  },
  "kernelspec": {
   "display_name": "Python 3.7.0 64-bit ('lxh37': conda)",
   "language": "python",
   "name": "python3"
  },
  "language_info": {
   "codemirror_mode": {
    "name": "ipython",
    "version": 3
   },
   "file_extension": ".py",
   "mimetype": "text/x-python",
   "name": "python",
   "nbconvert_exporter": "python",
   "pygments_lexer": "ipython3",
   "version": "3.7.0"
  },
  "orig_nbformat": 4
 },
 "nbformat": 4,
 "nbformat_minor": 2
}
